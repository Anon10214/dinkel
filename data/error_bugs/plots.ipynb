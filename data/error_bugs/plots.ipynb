{
 "cells": [
  {
   "cell_type": "code",
   "execution_count": 1,
   "metadata": {},
   "outputs": [],
   "source": [
    "import matplotlib as mlp\n",
    "import matplotlib.pyplot as plt\n",
    "from matplotlib.ticker import FormatStrFormatter\n",
    "import seaborn as sn\n",
    "import pandas as pd\n",
    "import numpy as np\n",
    "import csv"
   ]
  },
  {
   "cell_type": "code",
   "execution_count": 2,
   "metadata": {},
   "outputs": [],
   "source": [
    "df = pd.read_csv('error_results.csv')"
   ]
  },
  {
   "cell_type": "code",
   "execution_count": 3,
   "metadata": {
    "scrolled": true
   },
   "outputs": [
    {
     "data": {
      "text/plain": [
       "data_dependencies\n",
       "0    54\n",
       "1    42\n",
       "2    16\n",
       "3    11\n",
       "4     4\n",
       "5     1\n",
       "7     1\n",
       "8     1\n",
       "Name: count, dtype: int64"
      ]
     },
     "execution_count": 3,
     "metadata": {},
     "output_type": "execute_result"
    }
   ],
   "source": [
    "df.value_counts('data_dependencies')"
   ]
  },
  {
   "cell_type": "code",
   "execution_count": 4,
   "metadata": {},
   "outputs": [
    {
     "data": {
      "text/plain": [
       "target               0.584615\n",
       "query                0.584615\n",
       "size                 0.584615\n",
       "data_dependencies    0.584615\n",
       "max_depth            0.584615\n",
       "keyword_count        0.584615\n",
       "union_count          0.584615\n",
       "all_count            0.584615\n",
       "optional_count       0.584615\n",
       "match_count          0.584615\n",
       "foreach_count        0.584615\n",
       "unwind_count         0.584615\n",
       "as_count             0.584615\n",
       "merge_count          0.584615\n",
       "on_count             0.584615\n",
       "create_count         0.584615\n",
       "set_count            0.584615\n",
       "detach_count         0.584615\n",
       "delete_count         0.584615\n",
       "remove_count         0.584615\n",
       "call_count           0.584615\n",
       "yield_count          0.584615\n",
       "with_count           0.584615\n",
       "return_count         0.584615\n",
       "distinct_count       0.584615\n",
       "order_count          0.584615\n",
       "by_count             0.584615\n",
       "l_skip_count         0.584615\n",
       "limit_count          0.584615\n",
       "ascending_count      0.584615\n",
       "asc_count            0.584615\n",
       "descending_count     0.584615\n",
       "desc_count           0.584615\n",
       "where_count          0.584615\n",
       "or_count             0.584615\n",
       "xor_count            0.584615\n",
       "and_count            0.584615\n",
       "not_count            0.584615\n",
       "starts_count         0.584615\n",
       "ends_count           0.584615\n",
       "contains_count       0.584615\n",
       "in_count             0.584615\n",
       "is_count             0.584615\n",
       "null_count           0.584615\n",
       "count_count          0.584615\n",
       "case_count           0.584615\n",
       "else_count           0.584615\n",
       "end_count            0.584615\n",
       "when_count           0.584615\n",
       "then_count           0.584615\n",
       "any_count            0.584615\n",
       "none_count           0.584615\n",
       "single_count         0.584615\n",
       "exists_count         0.584615\n",
       "true_count           0.584615\n",
       "false_count          0.584615\n",
       "target.1             0.584615\n",
       "dtype: float64"
      ]
     },
     "execution_count": 4,
     "metadata": {},
     "output_type": "execute_result"
    }
   ],
   "source": [
    "(df.count() - 54) / df.count()"
   ]
  },
  {
   "cell_type": "code",
   "execution_count": 5,
   "metadata": {},
   "outputs": [
    {
     "data": {
      "text/plain": [
       "np.int64(249)"
      ]
     },
     "execution_count": 5,
     "metadata": {},
     "output_type": "execute_result"
    }
   ],
   "source": [
    "df['size'].max()"
   ]
  },
  {
   "cell_type": "code",
   "execution_count": 6,
   "metadata": {},
   "outputs": [
    {
     "data": {
      "text/plain": [
       "target               112\n",
       "query                112\n",
       "size                 112\n",
       "data_dependencies    112\n",
       "max_depth            112\n",
       "keyword_count        112\n",
       "union_count          112\n",
       "all_count            112\n",
       "optional_count       112\n",
       "match_count          112\n",
       "foreach_count        112\n",
       "unwind_count         112\n",
       "as_count             112\n",
       "merge_count          112\n",
       "on_count             112\n",
       "create_count         112\n",
       "set_count            112\n",
       "detach_count         112\n",
       "delete_count         112\n",
       "remove_count         112\n",
       "call_count           112\n",
       "yield_count          112\n",
       "with_count           112\n",
       "return_count         112\n",
       "distinct_count       112\n",
       "order_count          112\n",
       "by_count             112\n",
       "l_skip_count         112\n",
       "limit_count          112\n",
       "ascending_count      112\n",
       "asc_count            112\n",
       "descending_count     112\n",
       "desc_count           112\n",
       "where_count          112\n",
       "or_count             112\n",
       "xor_count            112\n",
       "and_count            112\n",
       "not_count            112\n",
       "starts_count         112\n",
       "ends_count           112\n",
       "contains_count       112\n",
       "in_count             112\n",
       "is_count             112\n",
       "null_count           112\n",
       "count_count          112\n",
       "case_count           112\n",
       "else_count           112\n",
       "end_count            112\n",
       "when_count           112\n",
       "then_count           112\n",
       "any_count            112\n",
       "none_count           112\n",
       "single_count         112\n",
       "exists_count         112\n",
       "true_count           112\n",
       "false_count          112\n",
       "target.1             112\n",
       "dtype: int64"
      ]
     },
     "execution_count": 6,
     "metadata": {},
     "output_type": "execute_result"
    }
   ],
   "source": [
    "df[df['size'] <= 120].count()"
   ]
  },
  {
   "cell_type": "code",
   "execution_count": 7,
   "metadata": {},
   "outputs": [],
   "source": [
    "markers = {\n",
    "    'neo4j': '.',\n",
    "    'redisgraph': 'x',\n",
    "    'falkordb': 'x',\n",
    "    'memgraph': 'P'\n",
    "}"
   ]
  },
  {
   "cell_type": "code",
   "execution_count": 8,
   "metadata": {},
   "outputs": [],
   "source": [
    "def assign_group(i):\n",
    "    if i == 0:\n",
    "        return 0\n",
    "    if i == 1:\n",
    "        return 1\n",
    "    if i == 2:\n",
    "        return 2\n",
    "    if i == 3:\n",
    "        return 3\n",
    "    return 4"
   ]
  },
  {
   "cell_type": "code",
   "execution_count": 9,
   "metadata": {},
   "outputs": [
    {
     "data": {
      "image/png": "[encoded data removed]",
      "text/plain": [
       "<Figure size 580x150 with 1 Axes>"
      ]
     },
     "metadata": {},
     "output_type": "display_data"
    }
   ],
   "source": [
    "plt.style.use('grayscale')\n",
    "\n",
    "plt.figure(figsize=[5.8, 1.5])\n",
    "\n",
    "amounts = [0,0,0,0,0]\n",
    "\n",
    "for index, row in df.iterrows():\n",
    "    amounts[assign_group(row['data_dependencies'])] += 1\n",
    "\n",
    "for i in range(4,-1,-1):\n",
    "    plt.barh([i], amounts[4-i], height=1, edgecolor='#000')\n",
    "\n",
    "plt.gcf().set_facecolor('white')\n",
    "\n",
    "plt.ylabel('Dependencies', size=12)\n",
    "plt.xlabel('Number of Bugs', size=12, labelpad=8)\n",
    "\n",
    "ax = plt.gca()\n",
    "\n",
    "plt.tick_params(axis='x', which='minor')\n",
    "ax.xaxis.set_major_formatter(FormatStrFormatter(\"%.0f\"))\n",
    "ax.xaxis.set_minor_formatter(FormatStrFormatter(\"%.0f\"))\n",
    "\n",
    "plt.yticks([4,3,2,1,0],['0','1','2','3', '4+'])\n",
    "\n",
    "plt.tick_params(axis='x', which='minor')\n",
    "\n",
    "for label in ax.get_yticklabels():\n",
    "    label.set_horizontalalignment('center')\n",
    "    label.set_x(-.015)\n",
    "\n",
    "plt.margins(0.1, 0)\n",
    "\n",
    "plt.grid(True, axis='x', which='both', alpha=0.15)\n",
    "\n",
    "plt.savefig('dependencies.pdf', format='pdf', bbox_inches='tight')"
   ]
  },
  {
   "cell_type": "code",
   "execution_count": 11,
   "metadata": {},
   "outputs": [
    {
     "data": {
      "text/plain": [
       "[54, 42, 16, 11, 7]"
      ]
     },
     "execution_count": 11,
     "metadata": {},
     "output_type": "execute_result"
    }
   ],
   "source": [
    "amounts"
   ]
  },
  {
   "cell_type": "code",
   "execution_count": 10,
   "metadata": {},
   "outputs": [
    {
     "data": {
      "image/png": "[encoded data removed]",
      "text/plain": [
       "<Figure size 600x400 with 1 Axes>"
      ]
     },
     "metadata": {},
     "output_type": "display_data"
    }
   ],
   "source": [
    "fig = plt.figure(figsize=[6.0, 4])\n",
    "\n",
    "\n",
    "i = 0\n",
    "for index, row in df.sort_values('size').iterrows():\n",
    "    plt.scatter(\n",
    "        row['size'],\n",
    "        i,\n",
    "        color={\n",
    "    'neo4j': '#5BCEFA',\n",
    "    'redisgraph': '#F5A9B8',\n",
    "    'falkordb': '#F5A9B8',\n",
    "    'memgraph': '#FFFFFF'\n",
    "}[row['target']],\n",
    "        marker=markers[row['target']],\n",
    "        edgecolor=('k' if row['target'] == 'memgraph' else None),\n",
    "        linewidth=(0.5 if row['target'] == 'memgraph' else 1),\n",
    "        alpha=0.8,\n",
    "        s=(35 if row['target'] == 'neo4j' else (35 if row['target'] == 'memgraph' else 25))\n",
    "    )\n",
    "    i += 1\n",
    "\n",
    "\n",
    "plt.gcf().set_facecolor('white')\n",
    "\n",
    "\n",
    "neo4j_marker = mlp.lines.Line2D([0], [0], label='Neo4j', marker=markers['neo4j'], markersize=13, \n",
    "         markeredgecolor=None, color='#5BCEFA', linestyle='')\n",
    "redisgraph_marker = mlp.lines.Line2D([0], [0], label='RedisGraph', marker=markers['redisgraph'], markersize=8, \n",
    "         markeredgecolor=None, color='#F5A9B8', linestyle='')\n",
    "apache_age_marker = mlp.lines.Line2D([0], [0], label='Memgraph', marker=markers['memgraph'], markersize=10, \n",
    "         markeredgecolor='k', markerfacecolor='#FFFFFF', linestyle='')\n",
    "\n",
    "plt.legend(handles=[neo4j_marker, redisgraph_marker, apache_age_marker])\n",
    "\n",
    "plt.xlabel('Query Size (Bytes)', size=13, labelpad=8)\n",
    "plt.ylabel('Bug', size=13, labelpad=8)\n",
    "\n",
    "ax = plt.gca()\n",
    "\n",
    "plt.tick_params(axis='y', which='minor')\n",
    "ax.yaxis.set_major_formatter(FormatStrFormatter(\"%.0f\"))\n",
    "ax.yaxis.set_minor_formatter(FormatStrFormatter(\"%.0f\"))\n",
    "\n",
    "plt.tick_params(axis='y', which='minor')\n",
    "\n",
    "plt.xticks(np.arange(0, 261, step=20), size=10.5)\n",
    "plt.yticks(size=10.5)\n",
    "\n",
    "plt.grid(True, axis='x', which='both', alpha=0.15)\n",
    "\n",
    "\n",
    "\n",
    "plt.savefig('size.pdf', format='pdf', bbox_inches='tight')"
   ]
  },
  {
   "cell_type": "markdown",
   "metadata": {},
   "source": [
    "## "
   ]
  }
 ],
 "metadata": {
  "kernelspec": {
   "display_name": "Python 3 (ipykernel)",
   "language": "python",
   "name": "python3"
  },
  "language_info": {
   "codemirror_mode": {
    "name": "ipython",
    "version": 3
   },
   "file_extension": ".py",
   "mimetype": "text/x-python",
   "name": "python",
   "nbconvert_exporter": "python",
   "pygments_lexer": "ipython3",
   "version": "3.13.2"
  }
 },
 "nbformat": 4,
 "nbformat_minor": 4
}
